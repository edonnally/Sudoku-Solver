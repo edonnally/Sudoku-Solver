{
 "cells": [
  {
   "cell_type": "code",
   "execution_count": 1,
   "metadata": {},
   "outputs": [],
   "source": [
    "# our initial board\n",
    "board = [\n",
    "    [7,8,0,4,0,0,1,2,0],\n",
    "    [6,0,0,0,7,5,0,0,9],\n",
    "    [0,0,0,6,0,1,0,7,8],\n",
    "    [0,0,7,0,4,0,2,6,0],\n",
    "    [0,0,1,0,5,0,9,3,0],\n",
    "    [9,0,4,0,6,0,0,0,5],\n",
    "    [0,7,0,3,0,0,0,1,2],\n",
    "    [1,2,0,0,0,7,4,0,0],\n",
    "    [0,4,9,2,0,6,0,0,7]   \n",
    "]"
   ]
  },
  {
   "cell_type": "code",
   "execution_count": 2,
   "metadata": {},
   "outputs": [],
   "source": [
    "def solve(board): # lets us know whether we found the solution or not\n",
    "    find = find_empty(board)\n",
    "    if not find:\n",
    "        return True\n",
    "    else: \n",
    "        row, col = find\n",
    "    \n",
    "    for i in range(1,10):\n",
    "        if valid(board,i,(row,col)):# if valid, we will plug in this number\n",
    "            board[row][col] = i\n",
    "            \n",
    "            if solve(board):\n",
    "                return True\n",
    "            board[row][col] = 0\n",
    "    \n",
    "    return False"
   ]
  },
  {
   "cell_type": "code",
   "execution_count": 3,
   "metadata": {},
   "outputs": [],
   "source": [
    "#checking to see if the board is valid or not\n",
    "def valid(board, num, pos):\n",
    "    # Check row\n",
    "    for i in range(len(board[0])):\n",
    "        if board[pos[0]][i]== num and pos[1] != i: #checks through each row to see if it equals the number we just added in\n",
    "            return False\n",
    "    # Check columns\n",
    "    for i in range(len(board[0])):\n",
    "        if board[i][pos[1]]== num and pos[0] != i: #checks through each column to make sure it's not the position we just added in\n",
    "            return False\n",
    "        \n",
    "    # Checks what box from the sudoku board we are in\n",
    "    box_x = pos[1] // 3\n",
    "    box_y = pos[0] // 3 \n",
    "    \n",
    "    for i in range(box_y*3, box_y*3 +3):\n",
    "        for j in range(box_x*3, box_x*3 + 3): \n",
    "            if board[i][j] ==num and (i,j) != pos:\n",
    "                return False\n",
    "    \n",
    "    return True"
   ]
  },
  {
   "cell_type": "code",
   "execution_count": 4,
   "metadata": {},
   "outputs": [],
   "source": [
    "# the below is to allow us to visualize what the board will look like in a sudoku format \n",
    "# as opposed to the matrix format above\n",
    "def print_board(board):\n",
    "    for i in range(len(board)):\n",
    "        if i % 3 == 0 and i != 0:\n",
    "            print (\"- - - - - - - - - - - -\")\n",
    "        # for every 3rd row we will print a horizontal line to match a sudoku layout  \n",
    "        for j in range(len(board[0])): #length of our row\n",
    "            if j % 3 == 0 and j != 0: # checks for the 3rd element in each column\n",
    "                print(\" | \", end = \"\") # adding in the end keeps it from adding in a backslash and going to the next line\n",
    "            if j == 8:\n",
    "                print(board[i][j])\n",
    "            else:\n",
    "                print(str(board[i][j]) + \" \", end=\"\")"
   ]
  },
  {
   "cell_type": "code",
   "execution_count": 5,
   "metadata": {},
   "outputs": [
    {
     "name": "stdout",
     "output_type": "stream",
     "text": [
      "7 8 0  | 4 0 0  | 1 2 0\n",
      "6 0 0  | 0 7 5  | 0 0 9\n",
      "0 0 0  | 6 0 1  | 0 7 8\n",
      "- - - - - - - - - - - -\n",
      "0 0 7  | 0 4 0  | 2 6 0\n",
      "0 0 1  | 0 5 0  | 9 3 0\n",
      "9 0 4  | 0 6 0  | 0 0 5\n",
      "- - - - - - - - - - - -\n",
      "0 7 0  | 3 0 0  | 0 1 2\n",
      "1 2 0  | 0 0 7  | 4 0 0\n",
      "0 4 9  | 2 0 6  | 0 0 7\n"
     ]
    }
   ],
   "source": [
    "print_board(board)"
   ]
  },
  {
   "cell_type": "code",
   "execution_count": 6,
   "metadata": {},
   "outputs": [],
   "source": [
    "#finding empty spaces\n",
    "def find_empty(board):\n",
    "    for i in range(len(board)): # finding an empty position to then return the empty position\n",
    "        for j in range(len(board[0])):\n",
    "            if board[i][j] == 0:\n",
    "                return (i, j) # row, column\n",
    "    \n",
    "    return None\n"
   ]
  },
  {
   "cell_type": "code",
   "execution_count": 8,
   "metadata": {},
   "outputs": [
    {
     "name": "stdout",
     "output_type": "stream",
     "text": [
      "7 8 5  | 4 3 9  | 1 2 6\n",
      "6 1 2  | 8 7 5  | 3 4 9\n",
      "4 9 3  | 6 2 1  | 5 7 8\n",
      "- - - - - - - - - - - -\n",
      "8 5 7  | 9 4 3  | 2 6 1\n",
      "2 6 1  | 7 5 8  | 9 3 4\n",
      "9 3 4  | 1 6 2  | 7 8 5\n",
      "- - - - - - - - - - - -\n",
      "5 7 8  | 3 9 4  | 6 1 2\n",
      "1 2 6  | 5 8 7  | 4 9 3\n",
      "3 4 9  | 2 1 6  | 8 5 7\n",
      "                     \n",
      "                     \n",
      "7 8 5  | 4 3 9  | 1 2 6\n",
      "6 1 2  | 8 7 5  | 3 4 9\n",
      "4 9 3  | 6 2 1  | 5 7 8\n",
      "- - - - - - - - - - - -\n",
      "8 5 7  | 9 4 3  | 2 6 1\n",
      "2 6 1  | 7 5 8  | 9 3 4\n",
      "9 3 4  | 1 6 2  | 7 8 5\n",
      "- - - - - - - - - - - -\n",
      "5 7 8  | 3 9 4  | 6 1 2\n",
      "1 2 6  | 5 8 7  | 4 9 3\n",
      "3 4 9  | 2 1 6  | 8 5 7\n"
     ]
    }
   ],
   "source": [
    "print_board(board)\n",
    "solve(board)\n",
    "print(\"                     \")\n",
    "print(\"                     \")\n",
    "print_board(board)"
   ]
  },
  {
   "cell_type": "code",
   "execution_count": null,
   "metadata": {},
   "outputs": [],
   "source": []
  }
 ],
 "metadata": {
  "kernelspec": {
   "display_name": "Python 3",
   "language": "python",
   "name": "python3"
  },
  "language_info": {
   "codemirror_mode": {
    "name": "ipython",
    "version": 3
   },
   "file_extension": ".py",
   "mimetype": "text/x-python",
   "name": "python",
   "nbconvert_exporter": "python",
   "pygments_lexer": "ipython3",
   "version": "3.8.3"
  }
 },
 "nbformat": 4,
 "nbformat_minor": 4
}
